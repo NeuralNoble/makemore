{
 "cells": [
  {
   "metadata": {
    "ExecuteTime": {
     "end_time": "2025-02-11T16:39:16.175362Z",
     "start_time": "2025-02-11T16:39:14.877739Z"
    }
   },
   "cell_type": "code",
   "source": [
    "import torch\n",
    "import matplotlib.pyplot as plt\n",
    "%matplotlib inline\n",
    "import torch.nn.functional as F"
   ],
   "id": "830afbc612f5ce76",
   "outputs": [],
   "execution_count": 1
  },
  {
   "metadata": {
    "ExecuteTime": {
     "end_time": "2025-02-11T16:39:57.285147Z",
     "start_time": "2025-02-11T16:39:57.269783Z"
    }
   },
   "cell_type": "code",
   "source": [
    "words = open('../names.txt','r').read().splitlines()\n",
    "words[:3]"
   ],
   "id": "ed687ea28d20762",
   "outputs": [
    {
     "data": {
      "text/plain": [
       "['emma', 'olivia', 'ava']"
      ]
     },
     "execution_count": 2,
     "metadata": {},
     "output_type": "execute_result"
    }
   ],
   "execution_count": 2
  },
  {
   "metadata": {
    "ExecuteTime": {
     "end_time": "2025-02-11T16:43:36.099399Z",
     "start_time": "2025-02-11T16:43:36.082322Z"
    }
   },
   "cell_type": "code",
   "source": [
    "# building the vocab of words and mapping to/from integers\n",
    "chars = sorted(list(set(''.join(words))))\n",
    "stoi = {s:i+1 for i,s in enumerate(chars)}\n",
    "stoi['.'] = 0\n",
    "itos = {i:s for s,i in stoi.items()}\n",
    "vocab_size = len(itos)\n",
    "print(itos)\n",
    "print(vocab_size)"
   ],
   "id": "8f2f18e5b1422788",
   "outputs": [
    {
     "name": "stdout",
     "output_type": "stream",
     "text": [
      "{1: 'a', 2: 'b', 3: 'c', 4: 'd', 5: 'e', 6: 'f', 7: 'g', 8: 'h', 9: 'i', 10: 'j', 11: 'k', 12: 'l', 13: 'm', 14: 'n', 15: 'o', 16: 'p', 17: 'q', 18: 'r', 19: 's', 20: 't', 21: 'u', 22: 'v', 23: 'w', 24: 'x', 25: 'y', 26: 'z', 0: '.'}\n",
      "27\n"
     ]
    }
   ],
   "execution_count": 9
  },
  {
   "metadata": {
    "ExecuteTime": {
     "end_time": "2025-02-11T17:10:48.870199Z",
     "start_time": "2025-02-11T17:10:48.145075Z"
    }
   },
   "cell_type": "code",
   "source": [
    "# building the dataset\n",
    "block_size = 3\n",
    "def build_datatset(words):\n",
    "    X,y = [] , []\n",
    "    for w in words:\n",
    "        context = [0] * block_size\n",
    "        for ch in w +'.':\n",
    "            ix = stoi[ch]\n",
    "            X.append(context)\n",
    "            y.append(ix)\n",
    "            context = context[1:] + [ix]\n",
    "\n",
    "    X = torch.tensor(X)\n",
    "    y = torch.tensor(y)\n",
    "    return X,y\n",
    "\n",
    "\n",
    "import random\n",
    "random.seed(42)\n",
    "random.shuffle(words)\n",
    "n1 = int(0.8*len(words))\n",
    "n2 = int(0.9*len(words))\n",
    "\n",
    "Xtr,ytr = build_datatset(words[:n1])\n",
    "Xval,yval = build_datatset(words[n1:n2])\n",
    "Xte,yte = build_datatset(words[n2:])\n",
    "\n"
   ],
   "id": "ffc4ab875658e962",
   "outputs": [],
   "execution_count": 10
  },
  {
   "metadata": {
    "ExecuteTime": {
     "end_time": "2025-02-11T17:10:54.675717Z",
     "start_time": "2025-02-11T17:10:54.659211Z"
    }
   },
   "cell_type": "code",
   "source": "Xtr",
   "id": "df730319ccc0ff97",
   "outputs": [
    {
     "data": {
      "text/plain": [
       "tensor([[ 0,  0,  0],\n",
       "        [ 0,  0, 25],\n",
       "        [ 0, 25, 21],\n",
       "        ...,\n",
       "        [15, 12,  4],\n",
       "        [12,  4,  1],\n",
       "        [ 4,  1, 14]])"
      ]
     },
     "execution_count": 11,
     "metadata": {},
     "output_type": "execute_result"
    }
   ],
   "execution_count": 11
  },
  {
   "metadata": {
    "ExecuteTime": {
     "end_time": "2025-02-11T17:11:00.100325Z",
     "start_time": "2025-02-11T17:11:00.080666Z"
    }
   },
   "cell_type": "code",
   "source": "ytr",
   "id": "826220da40011c5f",
   "outputs": [
    {
     "data": {
      "text/plain": [
       "tensor([25, 21,  8,  ...,  1, 14,  0])"
      ]
     },
     "execution_count": 12,
     "metadata": {},
     "output_type": "execute_result"
    }
   ],
   "execution_count": 12
  },
  {
   "metadata": {
    "ExecuteTime": {
     "end_time": "2025-02-13T09:53:48.848265Z",
     "start_time": "2025-02-13T09:53:48.763944Z"
    }
   },
   "cell_type": "code",
   "source": [
    "n_embed = 10\n",
    "n_hidden = 200\n",
    "g = torch.Generator().manual_seed(2147483647)\n",
    "C = torch.randn((vocab_size,n_embed),generator=g)\n",
    "w1 = torch.randn((n_embed*block_size,n_hidden),generator=g) * (5/3) / ((n_embed* block_size)**0.5)                 #0.2\n",
    "b1 = torch.randn(n_hidden,generator=g) *0.01\n",
    "w2 = torch.randn((n_hidden,vocab_size),generator=g) * 0.1\n",
    "b2 = torch.randn(vocab_size,generator=g) * 0\n",
    "\n",
    "bngain = torch.ones((1,n_hidden))\n",
    "bnbias = torch.zeros((1,n_hidden))\n",
    "\n",
    "params = [C,w1,b1,w2,b2,bngain,bnbias]\n",
    "print(sum(p.nelement() for p in params))\n",
    "for p in params:\n",
    "    p.requires_grad = True"
   ],
   "id": "ebab5d8246788522",
   "outputs": [
    {
     "name": "stdout",
     "output_type": "stream",
     "text": [
      "12297\n"
     ]
    }
   ],
   "execution_count": 83
  },
  {
   "metadata": {
    "ExecuteTime": {
     "end_time": "2025-02-13T09:55:24.641928Z",
     "start_time": "2025-02-13T09:54:01.317837Z"
    }
   },
   "cell_type": "code",
   "source": [
    "max_steps = 200000\n",
    "batch_size = 32\n",
    "lossi = []\n",
    "\n",
    "for i in range(max_steps):\n",
    "    idx = torch.randint(0,Xtr.shape[0],(batch_size,))\n",
    "    Xb,Yb = Xtr[idx],ytr[idx] # batch X , Y\n",
    "\n",
    "    # forward pass\n",
    "    emb = C[Xb]  # embed the chars ibn to vectors\n",
    "    embcat = emb.view(emb.shape[0],-1)\n",
    "    hpract = embcat @ w1 + b1 # hidden layer pre activation\n",
    "    hpract = bngain * (hpract - hpract.mean(0,keepdim=True))/hpract.std(0,keepdim=True) + bnbias # batch normalization\n",
    "    h = torch.tanh(hpract) # hidden layer\n",
    "    logits = h @ w2 + b2 # output layer\n",
    "    loss = F.cross_entropy(logits,Yb) # loss function\n",
    "\n",
    "    # backward pass\n",
    "    for p in params:\n",
    "        p.grad = None\n",
    "    loss.backward()\n",
    "\n",
    "    lr = 0.1 if i < 100000 else 0.01 # learning rate decay\n",
    "    for p in params:\n",
    "        p.data += - lr * p.grad\n",
    "\n",
    "    # track stats\n",
    "    if i % 10000 ==0 :\n",
    "        print(f\"step {i} loss {loss.item():.4f}\")\n",
    "\n",
    "    lossi.append(loss.log10().item())\n",
    "\n"
   ],
   "id": "c972a005d2cc0843",
   "outputs": [
    {
     "name": "stdout",
     "output_type": "stream",
     "text": [
      "step 0 loss 3.9660\n",
      "step 10000 loss 2.1967\n",
      "step 20000 loss 2.2211\n",
      "step 30000 loss 2.1936\n",
      "step 40000 loss 2.3540\n",
      "step 50000 loss 2.0469\n",
      "step 60000 loss 2.0054\n",
      "step 70000 loss 2.0642\n",
      "step 80000 loss 2.2253\n",
      "step 90000 loss 2.1094\n",
      "step 100000 loss 1.9742\n",
      "step 110000 loss 2.1036\n",
      "step 120000 loss 2.2975\n",
      "step 130000 loss 1.9901\n",
      "step 140000 loss 2.4417\n",
      "step 150000 loss 2.3255\n",
      "step 160000 loss 2.0094\n",
      "step 170000 loss 2.1755\n",
      "step 180000 loss 1.9920\n",
      "step 190000 loss 1.9064\n"
     ]
    }
   ],
   "execution_count": 84
  },
  {
   "metadata": {
    "ExecuteTime": {
     "end_time": "2025-02-12T11:19:27.127571Z",
     "start_time": "2025-02-12T11:19:26.256794Z"
    }
   },
   "cell_type": "code",
   "source": [
    "# the need of batch normalization explained\n",
    "x = torch.randn(1000,10)\n",
    "w = torch.randn(10,200) / 10**0.5\n",
    "y = x @ w\n",
    "print(x.mean(),x.std())\n",
    "print(y.mean(),y.std())\n",
    "plt.figure(figsize=(20,5))\n",
    "plt.subplot(121)\n",
    "plt.hist(x.view(-1).tolist(),50,density=True);\n",
    "plt.subplot(122)\n",
    "plt.hist(y.view(-1).tolist(),50,density=True);\n"
   ],
   "id": "ad3b608b9545a14e",
   "outputs": [
    {
     "name": "stdout",
     "output_type": "stream",
     "text": [
      "tensor(-0.0076) tensor(1.0106)\n",
      "tensor(0.0043) tensor(1.0159)\n"
     ]
    },
    {
     "data": {
      "text/plain": [
       "<Figure size 2000x500 with 2 Axes>"
      ],
      "image/png": "[encoded data removed]"
     },
     "metadata": {},
     "output_type": "display_data"
    }
   ],
   "execution_count": 73
  },
  {
   "metadata": {
    "ExecuteTime": {
     "end_time": "2025-02-13T11:09:30.150629Z",
     "start_time": "2025-02-13T11:09:29.644463Z"
    }
   },
   "cell_type": "code",
   "source": [
    "plt.figure(figsize=(20,10))\n",
    "plt.imshow(h.abs()>0.99,cmap='gray',interpolation='nearest') # white is flat region and black is steep region of tanh function so black is good white is bad and if a column is completely white then basically that neuron is a dead neuron"
   ],
   "id": "f54c492cf35570a6",
   "outputs": [
    {
     "data": {
      "text/plain": [
       "<matplotlib.image.AxesImage at 0x12128a520>"
      ]
     },
     "execution_count": 87,
     "metadata": {},
     "output_type": "execute_result"
    },
    {
     "data": {
      "text/plain": [
       "<Figure size 2000x1000 with 1 Axes>"
      ],
      "image/png": "[encoded data removed]"
     },
     "metadata": {},
     "output_type": "display_data"
    }
   ],
   "execution_count": 87
  },
  {
   "metadata": {
    "ExecuteTime": {
     "end_time": "2025-02-12T10:04:07.524214Z",
     "start_time": "2025-02-12T10:04:07.430565Z"
    }
   },
   "cell_type": "code",
   "source": "plt.hist(h.view(-1).tolist(),50);",
   "id": "50908e70022b120f",
   "outputs": [
    {
     "data": {
      "text/plain": [
       "<Figure size 640x480 with 1 Axes>"
      ],
      "image/png": "[encoded data removed]"
     },
     "metadata": {},
     "output_type": "display_data"
    }
   ],
   "execution_count": 66
  },
  {
   "metadata": {
    "ExecuteTime": {
     "end_time": "2025-02-12T10:04:11.298134Z",
     "start_time": "2025-02-12T10:04:11.198604Z"
    }
   },
   "cell_type": "code",
   "source": "plt.hist(hpract.view(-1).tolist(),50);",
   "id": "db69a957c44cbc8e",
   "outputs": [
    {
     "data": {
      "text/plain": [
       "<Figure size 640x480 with 1 Axes>"
      ],
      "image/png": "[encoded data removed]"
     },
     "metadata": {},
     "output_type": "display_data"
    }
   ],
   "execution_count": 67
  },
  {
   "metadata": {
    "ExecuteTime": {
     "end_time": "2025-02-12T10:07:37.283028Z",
     "start_time": "2025-02-12T10:07:36.937444Z"
    }
   },
   "cell_type": "code",
   "source": "plt.plot(lossi)",
   "id": "a4ad4addb9cdedfa",
   "outputs": [
    {
     "data": {
      "text/plain": [
       "[<matplotlib.lines.Line2D at 0x10c15dbe0>]"
      ]
     },
     "execution_count": 69,
     "metadata": {},
     "output_type": "execute_result"
    },
    {
     "data": {
      "text/plain": [
       "<Figure size 640x480 with 1 Axes>"
      ],
      "image/png": "[encoded data removed]"
     },
     "metadata": {},
     "output_type": "display_data"
    }
   ],
   "execution_count": 69
  },
  {
   "metadata": {
    "ExecuteTime": {
     "end_time": "2025-02-13T09:55:41.947424Z",
     "start_time": "2025-02-13T09:55:41.450498Z"
    }
   },
   "cell_type": "code",
   "source": [
    "@torch.no_grad()\n",
    "def split_loss(split):\n",
    "    x, y = {\n",
    "        'train': (Xtr, ytr),\n",
    "        'val': (Xval, yval),\n",
    "        'test': (Xte, yte)\n",
    "    }[split]\n",
    "    emb = C[x]\n",
    "    embcat = emb.view(emb.shape[0], -1)\n",
    "    hpract = embcat @ w1 + b1\n",
    "    hpract = bngain * (hpract - hpract.mean(0,keepdim=True))/hpract.std(0,keepdim=True) + bnbias # batch normalization\n",
    "    h = torch.tanh(hpract)\n",
    "    logits = h @ w2 + b2\n",
    "    loss = F.cross_entropy(logits, y)\n",
    "    print(split,loss.item())\n",
    "\n",
    "split_loss('train')\n",
    "split_loss('val')"
   ],
   "id": "f1295ecfaa206f6b",
   "outputs": [
    {
     "name": "stdout",
     "output_type": "stream",
     "text": [
      "train 2.069027900695801\n",
      "val 2.107956647872925\n"
     ]
    }
   ],
   "execution_count": 85
  },
  {
   "metadata": {
    "ExecuteTime": {
     "end_time": "2025-02-13T09:56:14.827625Z",
     "start_time": "2025-02-13T09:56:14.765747Z"
    }
   },
   "cell_type": "code",
   "source": [
    "# sample from the model\n",
    "g = torch.Generator().manual_seed(2147483647)\n",
    "\n",
    "for _ in range(20):\n",
    "    out = []\n",
    "    context = [0] * block_size\n",
    "    while True:\n",
    "        emb = C[torch.tensor([context])]\n",
    "        h = torch.tanh(emb.view(1,-1) @ w1 + b1)\n",
    "        logits = h @ w2 + b2\n",
    "        probs = F.softmax(logits,dim=1)\n",
    "        ix = torch.multinomial(probs,1,generator=g).item()\n",
    "        context = context[1:] + [ix]\n",
    "        out.append(ix)\n",
    "        if ix == 0:\n",
    "            break\n",
    "\n",
    "    print(''.join([itos[i] for i in out]))"
   ],
   "id": "394a8b91c52d130c",
   "outputs": [
    {
     "name": "stdout",
     "output_type": "stream",
     "text": [
      "chlbbaldgllusnficzopxhncsolivitta.\n",
      "chlkahkz.\n",
      "ksanvstevorbexttschimtts.\n",
      "khlissanvugbr.\n",
      "qedvadklivizhssdel.\n",
      "tkavifnyzaqlsnifwnndelvorhllswinsluvbraysl.\n",
      "priwnnlanshlf.\n",
      "quindss.\n",
      "mckerr.\n",
      "firmyggbikshbwrnbslarsnlucsthllscyprrmenrhsseengxmarquindstavjusdr.\n",
      "jhskfngbitja.\n",
      "khlivaddh.\n",
      "chlesgfyillwvebhkifphdendstmasgabrxxmikstsncroskalcanhrcfobciassmasslaqwundch.\n",
      "khlistaffiyasstissshdughn.\n",
      "lucghncarlevonaj.\n",
      "khnunsavighlisbryzdenlkahmi.\n",
      "shfahnnasaddvikhtsghnn.\n",
      "sklvagowrylmichnrvannahrydaqusnlcaosslnvserphtchfitiffrithtd.\n",
      "chymarziahsrztvijusston.\n",
      "cnichlkvizjahsr.\n"
     ]
    }
   ],
   "execution_count": 86
  },
  {
   "metadata": {
    "ExecuteTime": {
     "end_time": "2025-02-13T09:36:31.465928Z",
     "start_time": "2025-02-13T09:36:31.423404Z"
    }
   },
   "cell_type": "code",
   "source": "",
   "id": "d5b77e4189d66811",
   "outputs": [],
   "execution_count": null
  },
  {
   "metadata": {},
   "cell_type": "code",
   "outputs": [],
   "execution_count": null,
   "source": "",
   "id": "f767fdf6dc833eb5"
  }
 ],
 "metadata": {
  "kernelspec": {
   "name": "python3",
   "language": "python",
   "display_name": "Python 3 (ipykernel)"
  }
 },
 "nbformat": 5,
 "nbformat_minor": 9
}
