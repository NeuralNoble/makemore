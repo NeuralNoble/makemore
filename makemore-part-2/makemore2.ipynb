{
 "cells": [
  {
   "metadata": {
    "ExecuteTime": {
     "end_time": "2025-02-10T09:39:14.689550Z",
     "start_time": "2025-02-10T09:39:14.646049Z"
    }
   },
   "cell_type": "code",
   "source": [
    "import torch\n",
    "import torch.nn.functional as F\n",
    "import matplotlib.pyplot as plt\n",
    "%matplotlib inline"
   ],
   "id": "685fa9e3099765b5",
   "outputs": [],
   "execution_count": 2
  },
  {
   "metadata": {
    "ExecuteTime": {
     "end_time": "2025-02-10T09:40:16.599052Z",
     "start_time": "2025-02-10T09:40:16.583576Z"
    }
   },
   "cell_type": "code",
   "source": [
    "words = open('../names.txt','r').read().splitlines()\n",
    "words[:8]"
   ],
   "id": "58b5c42c7a8db6c1",
   "outputs": [
    {
     "data": {
      "text/plain": [
       "['emma', 'olivia', 'ava', 'isabella', 'sophia', 'charlotte', 'mia', 'amelia']"
      ]
     },
     "execution_count": 3,
     "metadata": {},
     "output_type": "execute_result"
    }
   ],
   "execution_count": 3
  },
  {
   "metadata": {
    "ExecuteTime": {
     "end_time": "2025-02-10T09:40:25.107799Z",
     "start_time": "2025-02-10T09:40:25.096536Z"
    }
   },
   "cell_type": "code",
   "source": "len(words)",
   "id": "2c2b170533d65f0b",
   "outputs": [
    {
     "data": {
      "text/plain": [
       "32033"
      ]
     },
     "execution_count": 4,
     "metadata": {},
     "output_type": "execute_result"
    }
   ],
   "execution_count": 4
  },
  {
   "metadata": {
    "ExecuteTime": {
     "end_time": "2025-02-10T10:00:46.898941Z",
     "start_time": "2025-02-10T10:00:46.883308Z"
    }
   },
   "cell_type": "code",
   "source": [
    "# building the vocabulary of chars and the mapping to/from integers\n",
    "chars = sorted(set(''.join(words)))\n",
    "stoi = {s:i+1 for i,s in enumerate(chars)}\n",
    "stoi['.'] = 0\n",
    "itos = {i:s for s,i in stoi.items()}\n",
    "itos"
   ],
   "id": "72efd17b30ab4288",
   "outputs": [
    {
     "data": {
      "text/plain": [
       "{1: 'a',\n",
       " 2: 'b',\n",
       " 3: 'c',\n",
       " 4: 'd',\n",
       " 5: 'e',\n",
       " 6: 'f',\n",
       " 7: 'g',\n",
       " 8: 'h',\n",
       " 9: 'i',\n",
       " 10: 'j',\n",
       " 11: 'k',\n",
       " 12: 'l',\n",
       " 13: 'm',\n",
       " 14: 'n',\n",
       " 15: 'o',\n",
       " 16: 'p',\n",
       " 17: 'q',\n",
       " 18: 'r',\n",
       " 19: 's',\n",
       " 20: 't',\n",
       " 21: 'u',\n",
       " 22: 'v',\n",
       " 23: 'w',\n",
       " 24: 'x',\n",
       " 25: 'y',\n",
       " 26: 'z',\n",
       " 0: '.'}"
      ]
     },
     "execution_count": 9,
     "metadata": {},
     "output_type": "execute_result"
    }
   ],
   "execution_count": 9
  },
  {
   "metadata": {
    "ExecuteTime": {
     "end_time": "2025-02-10T10:19:45.038433Z",
     "start_time": "2025-02-10T10:19:44.988599Z"
    }
   },
   "cell_type": "code",
   "source": [
    "# building the dataset\n",
    "block_size = 3 # context length : how many characters we take to predict the next one\n",
    "X,y = [],[]\n",
    "for w in words[:5]:\n",
    "\n",
    "    print(w)\n",
    "    context = [0] * block_size\n",
    "    for ch in w + '.':\n",
    "        ix = stoi[ch]\n",
    "        X.append(context)\n",
    "        y.append(ix)\n",
    "        print(''.join(itos[i] for i in context),'->',itos[ix])\n",
    "        context = context[1:] + [ix]\n",
    "\n",
    "X = torch.tensor(X)\n",
    "y = torch.tensor(y)\n"
   ],
   "id": "143ac64f947f444b",
   "outputs": [
    {
     "name": "stdout",
     "output_type": "stream",
     "text": [
      "emma\n",
      "... -> e\n",
      "..e -> m\n",
      ".em -> m\n",
      "emm -> a\n",
      "mma -> .\n",
      "olivia\n",
      "... -> o\n",
      "..o -> l\n",
      ".ol -> i\n",
      "oli -> v\n",
      "liv -> i\n",
      "ivi -> a\n",
      "via -> .\n",
      "ava\n",
      "... -> a\n",
      "..a -> v\n",
      ".av -> a\n",
      "ava -> .\n",
      "isabella\n",
      "... -> i\n",
      "..i -> s\n",
      ".is -> a\n",
      "isa -> b\n",
      "sab -> e\n",
      "abe -> l\n",
      "bel -> l\n",
      "ell -> a\n",
      "lla -> .\n",
      "sophia\n",
      "... -> s\n",
      "..s -> o\n",
      ".so -> p\n",
      "sop -> h\n",
      "oph -> i\n",
      "phi -> a\n",
      "hia -> .\n"
     ]
    }
   ],
   "execution_count": 10
  },
  {
   "metadata": {
    "ExecuteTime": {
     "end_time": "2025-02-10T10:57:09.054164Z",
     "start_time": "2025-02-10T10:57:09.045520Z"
    }
   },
   "cell_type": "code",
   "source": "X.shape",
   "id": "4547d6a88d314753",
   "outputs": [
    {
     "data": {
      "text/plain": [
       "torch.Size([32, 3])"
      ]
     },
     "execution_count": 17,
     "metadata": {},
     "output_type": "execute_result"
    }
   ],
   "execution_count": 17
  },
  {
   "metadata": {
    "ExecuteTime": {
     "end_time": "2025-02-10T10:31:27.868214Z",
     "start_time": "2025-02-10T10:31:27.849253Z"
    }
   },
   "cell_type": "code",
   "source": "y",
   "id": "158006de207dea0d",
   "outputs": [
    {
     "data": {
      "text/plain": [
       "tensor([ 5, 13, 13,  1,  0, 15, 12,  9, 22,  9,  1,  0,  1, 22,  1,  0,  9, 19,\n",
       "         1,  2,  5, 12, 12,  1,  0, 19, 15, 16,  8,  9,  1,  0])"
      ]
     },
     "execution_count": 12,
     "metadata": {},
     "output_type": "execute_result"
    }
   ],
   "execution_count": 12
  },
  {
   "metadata": {
    "ExecuteTime": {
     "end_time": "2025-02-10T10:39:44.534889Z",
     "start_time": "2025-02-10T10:39:44.486176Z"
    }
   },
   "cell_type": "code",
   "source": "C = torch.randn((27,2))",
   "id": "a6aa8f07cf032aa2",
   "outputs": [],
   "execution_count": 13
  },
  {
   "metadata": {
    "ExecuteTime": {
     "end_time": "2025-02-10T11:10:07.858386Z",
     "start_time": "2025-02-10T11:10:07.843296Z"
    }
   },
   "cell_type": "code",
   "source": [
    "emb = C[X]\n",
    "emb.shape"
   ],
   "id": "cb1cd30f01bf9284",
   "outputs": [
    {
     "data": {
      "text/plain": [
       "torch.Size([32, 3, 2])"
      ]
     },
     "execution_count": 18,
     "metadata": {},
     "output_type": "execute_result"
    }
   ],
   "execution_count": 18
  },
  {
   "metadata": {
    "ExecuteTime": {
     "end_time": "2025-02-10T11:11:04.520372Z",
     "start_time": "2025-02-10T11:11:04.514256Z"
    }
   },
   "cell_type": "code",
   "source": "X.shape",
   "id": "71fbda5d62aafab",
   "outputs": [
    {
     "data": {
      "text/plain": [
       "torch.Size([32, 3])"
      ]
     },
     "execution_count": 20,
     "metadata": {},
     "output_type": "execute_result"
    }
   ],
   "execution_count": 20
  },
  {
   "metadata": {
    "ExecuteTime": {
     "end_time": "2025-02-10T11:20:59.704548Z",
     "start_time": "2025-02-10T11:20:59.691100Z"
    }
   },
   "cell_type": "code",
   "source": "emb[:,0,:][2]",
   "id": "ea04e6d95a6764ea",
   "outputs": [
    {
     "data": {
      "text/plain": [
       "tensor([-0.2552, -0.3853])"
      ]
     },
     "execution_count": 30,
     "metadata": {},
     "output_type": "execute_result"
    }
   ],
   "execution_count": 30
  },
  {
   "metadata": {
    "ExecuteTime": {
     "end_time": "2025-02-10T11:21:04.705252Z",
     "start_time": "2025-02-10T11:21:04.692136Z"
    }
   },
   "cell_type": "code",
   "source": "emb[:,1,:][2]",
   "id": "a5910e7de08ba420",
   "outputs": [
    {
     "data": {
      "text/plain": [
       "tensor([-1.5997, -0.6775])"
      ]
     },
     "execution_count": 31,
     "metadata": {},
     "output_type": "execute_result"
    }
   ],
   "execution_count": 31
  },
  {
   "metadata": {
    "ExecuteTime": {
     "end_time": "2025-02-10T11:21:07.566474Z",
     "start_time": "2025-02-10T11:21:07.547250Z"
    }
   },
   "cell_type": "code",
   "source": "emb[:,2,:][2]",
   "id": "67854952d575f637",
   "outputs": [
    {
     "data": {
      "text/plain": [
       "tensor([ 0.0414, -0.3139])"
      ]
     },
     "execution_count": 32,
     "metadata": {},
     "output_type": "execute_result"
    }
   ],
   "execution_count": 32
  },
  {
   "metadata": {
    "ExecuteTime": {
     "end_time": "2025-02-10T11:49:24.028592Z",
     "start_time": "2025-02-10T11:49:24.016218Z"
    }
   },
   "cell_type": "code",
   "source": [
    "# inefficient creates new memory\n",
    "torch.cat([emb[:,0,:],emb[:,1,:],emb[:,2,:]],dim=1).shape"
   ],
   "id": "69f682b04bec0678",
   "outputs": [
    {
     "data": {
      "text/plain": [
       "torch.Size([32, 6])"
      ]
     },
     "execution_count": 38,
     "metadata": {},
     "output_type": "execute_result"
    }
   ],
   "execution_count": 38
  },
  {
   "metadata": {
    "ExecuteTime": {
     "end_time": "2025-02-10T11:49:20.069232Z",
     "start_time": "2025-02-10T11:49:20.060245Z"
    }
   },
   "cell_type": "code",
   "source": [
    "#  a better way to do this would be to use unbind\n",
    "torch.cat(torch.unbind(emb,dim=1),1).shape"
   ],
   "id": "acc227b88e797559",
   "outputs": [
    {
     "data": {
      "text/plain": [
       "torch.Size([32, 6])"
      ]
     },
     "execution_count": 37,
     "metadata": {},
     "output_type": "execute_result"
    }
   ],
   "execution_count": 37
  },
  {
   "metadata": {
    "ExecuteTime": {
     "end_time": "2025-02-10T12:05:31.487768Z",
     "start_time": "2025-02-10T12:05:31.410952Z"
    }
   },
   "cell_type": "code",
   "source": "emb.view(32,6)",
   "id": "4e2632d4521b6d4b",
   "outputs": [
    {
     "data": {
      "text/plain": [
       "tensor([[-0.2552, -0.3853, -0.2552, -0.3853, -0.2552, -0.3853],\n",
       "        [-0.2552, -0.3853, -0.2552, -0.3853, -1.5997, -0.6775],\n",
       "        [-0.2552, -0.3853, -1.5997, -0.6775,  0.0414, -0.3139],\n",
       "        [-1.5997, -0.6775,  0.0414, -0.3139,  0.0414, -0.3139],\n",
       "        [ 0.0414, -0.3139,  0.0414, -0.3139,  1.0396, -0.2638],\n",
       "        [-0.2552, -0.3853, -0.2552, -0.3853, -0.2552, -0.3853],\n",
       "        [-0.2552, -0.3853, -0.2552, -0.3853, -0.5133, -0.4745],\n",
       "        [-0.2552, -0.3853, -0.5133, -0.4745,  0.2959,  1.0004],\n",
       "        [-0.5133, -0.4745,  0.2959,  1.0004, -0.5164,  0.3413],\n",
       "        [ 0.2959,  1.0004, -0.5164,  0.3413, -1.0816,  0.0384],\n",
       "        [-0.5164,  0.3413, -1.0816,  0.0384, -0.5164,  0.3413],\n",
       "        [-1.0816,  0.0384, -0.5164,  0.3413,  1.0396, -0.2638],\n",
       "        [-0.2552, -0.3853, -0.2552, -0.3853, -0.2552, -0.3853],\n",
       "        [-0.2552, -0.3853, -0.2552, -0.3853,  1.0396, -0.2638],\n",
       "        [-0.2552, -0.3853,  1.0396, -0.2638, -1.0816,  0.0384],\n",
       "        [ 1.0396, -0.2638, -1.0816,  0.0384,  1.0396, -0.2638],\n",
       "        [-0.2552, -0.3853, -0.2552, -0.3853, -0.2552, -0.3853],\n",
       "        [-0.2552, -0.3853, -0.2552, -0.3853, -0.5164,  0.3413],\n",
       "        [-0.2552, -0.3853, -0.5164,  0.3413, -0.8647,  0.7972],\n",
       "        [-0.5164,  0.3413, -0.8647,  0.7972,  1.0396, -0.2638],\n",
       "        [-0.8647,  0.7972,  1.0396, -0.2638, -1.3690, -0.6768],\n",
       "        [ 1.0396, -0.2638, -1.3690, -0.6768, -1.5997, -0.6775],\n",
       "        [-1.3690, -0.6768, -1.5997, -0.6775,  0.2959,  1.0004],\n",
       "        [-1.5997, -0.6775,  0.2959,  1.0004,  0.2959,  1.0004],\n",
       "        [ 0.2959,  1.0004,  0.2959,  1.0004,  1.0396, -0.2638],\n",
       "        [-0.2552, -0.3853, -0.2552, -0.3853, -0.2552, -0.3853],\n",
       "        [-0.2552, -0.3853, -0.2552, -0.3853, -0.8647,  0.7972],\n",
       "        [-0.2552, -0.3853, -0.8647,  0.7972, -0.5133, -0.4745],\n",
       "        [-0.8647,  0.7972, -0.5133, -0.4745, -1.2482, -0.6403],\n",
       "        [-0.5133, -0.4745, -1.2482, -0.6403,  0.3650, -1.4930],\n",
       "        [-1.2482, -0.6403,  0.3650, -1.4930, -0.5164,  0.3413],\n",
       "        [ 0.3650, -1.4930, -0.5164,  0.3413,  1.0396, -0.2638]])"
      ]
     },
     "execution_count": 39,
     "metadata": {},
     "output_type": "execute_result"
    }
   ],
   "execution_count": 39
  },
  {
   "metadata": {
    "ExecuteTime": {
     "end_time": "2025-02-10T12:33:18.426921Z",
     "start_time": "2025-02-10T12:33:18.388065Z"
    }
   },
   "cell_type": "code",
   "source": [
    "w1 = torch.randn((6,100))\n",
    "b1 = torch.randn(100)"
   ],
   "id": "e54d0a0f3ca0484f",
   "outputs": [],
   "execution_count": 40
  },
  {
   "metadata": {
    "ExecuteTime": {
     "end_time": "2025-02-10T12:38:20.437291Z",
     "start_time": "2025-02-10T12:38:20.427Z"
    }
   },
   "cell_type": "code",
   "source": [
    "# hidden layer with 100 neuron\n",
    "h = torch.tanh(emb.view(-1,6) @ w1 + b1)"
   ],
   "id": "3e771e130186bbac",
   "outputs": [],
   "execution_count": 45
  },
  {
   "metadata": {
    "ExecuteTime": {
     "end_time": "2025-02-10T12:39:24.718072Z",
     "start_time": "2025-02-10T12:39:24.694031Z"
    }
   },
   "cell_type": "code",
   "source": [
    "w2 = torch.randn((100,27))\n",
    "b2 = torch.randn(27)"
   ],
   "id": "234fd747ecb5c6a3",
   "outputs": [],
   "execution_count": 46
  },
  {
   "metadata": {
    "ExecuteTime": {
     "end_time": "2025-02-10T12:39:37.662832Z",
     "start_time": "2025-02-10T12:39:37.643036Z"
    }
   },
   "cell_type": "code",
   "source": "logits = h @ w2 + b2",
   "id": "4d692d8b824fb825",
   "outputs": [],
   "execution_count": 47
  },
  {
   "metadata": {
    "ExecuteTime": {
     "end_time": "2025-02-10T12:39:41.567332Z",
     "start_time": "2025-02-10T12:39:41.560051Z"
    }
   },
   "cell_type": "code",
   "source": "logits.shape",
   "id": "926c3bfa478b6218",
   "outputs": [
    {
     "data": {
      "text/plain": [
       "torch.Size([32, 27])"
      ]
     },
     "execution_count": 48,
     "metadata": {},
     "output_type": "execute_result"
    }
   ],
   "execution_count": 48
  },
  {
   "metadata": {
    "ExecuteTime": {
     "end_time": "2025-02-10T12:41:51.445581Z",
     "start_time": "2025-02-10T12:41:51.430958Z"
    }
   },
   "cell_type": "code",
   "source": [
    "counts = logits.exp()\n",
    "counts[0].sum()"
   ],
   "id": "6621e6c115a7f703",
   "outputs": [
    {
     "data": {
      "text/plain": [
       "tensor(754640.1875)"
      ]
     },
     "execution_count": 53,
     "metadata": {},
     "output_type": "execute_result"
    }
   ],
   "execution_count": 53
  },
  {
   "metadata": {
    "ExecuteTime": {
     "end_time": "2025-02-10T12:45:12.183632Z",
     "start_time": "2025-02-10T12:45:12.169500Z"
    }
   },
   "cell_type": "code",
   "source": [
    "# summing along columns (1) When we  sum along a column (dim=1) in a 2D tensor, it means we are summing across all columns in each row—so we get a single value per row.\n",
    "# sum(1, keepdim=True) sums along axis 1 but keeps the result as a column vector.\n",
    "probs = counts / counts.sum(1,keepdim=True)"
   ],
   "id": "1098d653aceecefa",
   "outputs": [],
   "execution_count": 54
  },
  {
   "metadata": {
    "ExecuteTime": {
     "end_time": "2025-02-10T12:45:16.119737Z",
     "start_time": "2025-02-10T12:45:16.105548Z"
    }
   },
   "cell_type": "code",
   "source": "probs.shape",
   "id": "5e27609231213407",
   "outputs": [
    {
     "data": {
      "text/plain": [
       "torch.Size([32, 27])"
      ]
     },
     "execution_count": 55,
     "metadata": {},
     "output_type": "execute_result"
    }
   ],
   "execution_count": 55
  },
  {
   "metadata": {
    "ExecuteTime": {
     "end_time": "2025-02-10T12:46:12.855449Z",
     "start_time": "2025-02-10T12:46:12.819317Z"
    }
   },
   "cell_type": "code",
   "source": "probs[2]",
   "id": "60751ab3775c8a2f",
   "outputs": [
    {
     "data": {
      "text/plain": [
       "tensor([1.0729e-05, 8.1757e-06, 9.8785e-11, 1.9783e-12, 6.1677e-04, 1.9734e-12,\n",
       "        1.2677e-10, 6.5016e-09, 5.9873e-13, 2.5901e-11, 2.6887e-09, 1.8408e-08,\n",
       "        1.4343e-16, 9.4611e-13, 2.8316e-10, 1.1069e-01, 6.0730e-06, 8.6602e-08,\n",
       "        4.2211e-08, 1.1421e-05, 3.4339e-09, 7.0345e-10, 3.9007e-07, 1.8780e-15,\n",
       "        2.4217e-16, 8.3062e-01, 5.8032e-02])"
      ]
     },
     "execution_count": 60,
     "metadata": {},
     "output_type": "execute_result"
    }
   ],
   "execution_count": 60
  },
  {
   "metadata": {
    "ExecuteTime": {
     "end_time": "2025-02-10T13:28:45.090258Z",
     "start_time": "2025-02-10T13:28:45.008713Z"
    }
   },
   "cell_type": "code",
   "source": [
    "loss = -probs[torch.arange(32),y].log().mean()\n",
    "loss"
   ],
   "id": "2aaead463c46c100",
   "outputs": [
    {
     "data": {
      "text/plain": [
       "tensor(14.9488)"
      ]
     },
     "execution_count": 63,
     "metadata": {},
     "output_type": "execute_result"
    }
   ],
   "execution_count": 63
  },
  {
   "metadata": {
    "ExecuteTime": {
     "end_time": "2025-02-10T13:09:04.621360Z",
     "start_time": "2025-02-10T13:09:04.604220Z"
    }
   },
   "cell_type": "code",
   "source": "y",
   "id": "c0de83baacb02231",
   "outputs": [
    {
     "data": {
      "text/plain": [
       "tensor([ 5, 13, 13,  1,  0, 15, 12,  9, 22,  9,  1,  0,  1, 22,  1,  0,  9, 19,\n",
       "         1,  2,  5, 12, 12,  1,  0, 19, 15, 16,  8,  9,  1,  0])"
      ]
     },
     "execution_count": 62,
     "metadata": {},
     "output_type": "execute_result"
    }
   ],
   "execution_count": 62
  },
  {
   "metadata": {},
   "cell_type": "markdown",
   "source": "###                                       ----- A bit fresh -----",
   "id": "5fa339bc20425089"
  },
  {
   "metadata": {
    "ExecuteTime": {
     "end_time": "2025-02-10T19:23:18.863604Z",
     "start_time": "2025-02-10T19:23:18.725287Z"
    }
   },
   "cell_type": "code",
   "source": [
    "lre = torch.linspace(-3,0,1000)\n",
    "lrs = 10**lre\n",
    "lrs"
   ],
   "id": "9e56120d5a028cd1",
   "outputs": [
    {
     "data": {
      "text/plain": [
       "tensor([0.0010, 0.0010, 0.0010, 0.0010, 0.0010, 0.0010, 0.0010, 0.0010, 0.0011,\n",
       "        0.0011, 0.0011, 0.0011, 0.0011, 0.0011, 0.0011, 0.0011, 0.0011, 0.0011,\n",
       "        0.0011, 0.0011, 0.0011, 0.0012, 0.0012, 0.0012, 0.0012, 0.0012, 0.0012,\n",
       "        0.0012, 0.0012, 0.0012, 0.0012, 0.0012, 0.0012, 0.0013, 0.0013, 0.0013,\n",
       "        0.0013, 0.0013, 0.0013, 0.0013, 0.0013, 0.0013, 0.0013, 0.0013, 0.0014,\n",
       "        0.0014, 0.0014, 0.0014, 0.0014, 0.0014, 0.0014, 0.0014, 0.0014, 0.0014,\n",
       "        0.0015, 0.0015, 0.0015, 0.0015, 0.0015, 0.0015, 0.0015, 0.0015, 0.0015,\n",
       "        0.0015, 0.0016, 0.0016, 0.0016, 0.0016, 0.0016, 0.0016, 0.0016, 0.0016,\n",
       "        0.0016, 0.0017, 0.0017, 0.0017, 0.0017, 0.0017, 0.0017, 0.0017, 0.0017,\n",
       "        0.0018, 0.0018, 0.0018, 0.0018, 0.0018, 0.0018, 0.0018, 0.0018, 0.0019,\n",
       "        0.0019, 0.0019, 0.0019, 0.0019, 0.0019, 0.0019, 0.0019, 0.0020, 0.0020,\n",
       "        0.0020, 0.0020, 0.0020, 0.0020, 0.0020, 0.0021, 0.0021, 0.0021, 0.0021,\n",
       "        0.0021, 0.0021, 0.0021, 0.0022, 0.0022, 0.0022, 0.0022, 0.0022, 0.0022,\n",
       "        0.0022, 0.0023, 0.0023, 0.0023, 0.0023, 0.0023, 0.0023, 0.0024, 0.0024,\n",
       "        0.0024, 0.0024, 0.0024, 0.0024, 0.0025, 0.0025, 0.0025, 0.0025, 0.0025,\n",
       "        0.0025, 0.0026, 0.0026, 0.0026, 0.0026, 0.0026, 0.0027, 0.0027, 0.0027,\n",
       "        0.0027, 0.0027, 0.0027, 0.0028, 0.0028, 0.0028, 0.0028, 0.0028, 0.0029,\n",
       "        0.0029, 0.0029, 0.0029, 0.0029, 0.0030, 0.0030, 0.0030, 0.0030, 0.0030,\n",
       "        0.0031, 0.0031, 0.0031, 0.0031, 0.0032, 0.0032, 0.0032, 0.0032, 0.0032,\n",
       "        0.0033, 0.0033, 0.0033, 0.0033, 0.0034, 0.0034, 0.0034, 0.0034, 0.0034,\n",
       "        0.0035, 0.0035, 0.0035, 0.0035, 0.0036, 0.0036, 0.0036, 0.0036, 0.0037,\n",
       "        0.0037, 0.0037, 0.0037, 0.0038, 0.0038, 0.0038, 0.0039, 0.0039, 0.0039,\n",
       "        0.0039, 0.0040, 0.0040, 0.0040, 0.0040, 0.0041, 0.0041, 0.0041, 0.0042,\n",
       "        0.0042, 0.0042, 0.0042, 0.0043, 0.0043, 0.0043, 0.0044, 0.0044, 0.0044,\n",
       "        0.0045, 0.0045, 0.0045, 0.0045, 0.0046, 0.0046, 0.0046, 0.0047, 0.0047,\n",
       "        0.0047, 0.0048, 0.0048, 0.0048, 0.0049, 0.0049, 0.0049, 0.0050, 0.0050,\n",
       "        0.0050, 0.0051, 0.0051, 0.0051, 0.0052, 0.0052, 0.0053, 0.0053, 0.0053,\n",
       "        0.0054, 0.0054, 0.0054, 0.0055, 0.0055, 0.0056, 0.0056, 0.0056, 0.0057,\n",
       "        0.0057, 0.0058, 0.0058, 0.0058, 0.0059, 0.0059, 0.0060, 0.0060, 0.0060,\n",
       "        0.0061, 0.0061, 0.0062, 0.0062, 0.0062, 0.0063, 0.0063, 0.0064, 0.0064,\n",
       "        0.0065, 0.0065, 0.0066, 0.0066, 0.0067, 0.0067, 0.0067, 0.0068, 0.0068,\n",
       "        0.0069, 0.0069, 0.0070, 0.0070, 0.0071, 0.0071, 0.0072, 0.0072, 0.0073,\n",
       "        0.0073, 0.0074, 0.0074, 0.0075, 0.0075, 0.0076, 0.0076, 0.0077, 0.0077,\n",
       "        0.0078, 0.0079, 0.0079, 0.0080, 0.0080, 0.0081, 0.0081, 0.0082, 0.0082,\n",
       "        0.0083, 0.0084, 0.0084, 0.0085, 0.0085, 0.0086, 0.0086, 0.0087, 0.0088,\n",
       "        0.0088, 0.0089, 0.0090, 0.0090, 0.0091, 0.0091, 0.0092, 0.0093, 0.0093,\n",
       "        0.0094, 0.0095, 0.0095, 0.0096, 0.0097, 0.0097, 0.0098, 0.0099, 0.0099,\n",
       "        0.0100, 0.0101, 0.0101, 0.0102, 0.0103, 0.0104, 0.0104, 0.0105, 0.0106,\n",
       "        0.0106, 0.0107, 0.0108, 0.0109, 0.0109, 0.0110, 0.0111, 0.0112, 0.0112,\n",
       "        0.0113, 0.0114, 0.0115, 0.0116, 0.0116, 0.0117, 0.0118, 0.0119, 0.0120,\n",
       "        0.0121, 0.0121, 0.0122, 0.0123, 0.0124, 0.0125, 0.0126, 0.0127, 0.0127,\n",
       "        0.0128, 0.0129, 0.0130, 0.0131, 0.0132, 0.0133, 0.0134, 0.0135, 0.0136,\n",
       "        0.0137, 0.0137, 0.0138, 0.0139, 0.0140, 0.0141, 0.0142, 0.0143, 0.0144,\n",
       "        0.0145, 0.0146, 0.0147, 0.0148, 0.0149, 0.0150, 0.0151, 0.0152, 0.0154,\n",
       "        0.0155, 0.0156, 0.0157, 0.0158, 0.0159, 0.0160, 0.0161, 0.0162, 0.0163,\n",
       "        0.0165, 0.0166, 0.0167, 0.0168, 0.0169, 0.0170, 0.0171, 0.0173, 0.0174,\n",
       "        0.0175, 0.0176, 0.0178, 0.0179, 0.0180, 0.0181, 0.0182, 0.0184, 0.0185,\n",
       "        0.0186, 0.0188, 0.0189, 0.0190, 0.0192, 0.0193, 0.0194, 0.0196, 0.0197,\n",
       "        0.0198, 0.0200, 0.0201, 0.0202, 0.0204, 0.0205, 0.0207, 0.0208, 0.0210,\n",
       "        0.0211, 0.0212, 0.0214, 0.0215, 0.0217, 0.0218, 0.0220, 0.0221, 0.0223,\n",
       "        0.0225, 0.0226, 0.0228, 0.0229, 0.0231, 0.0232, 0.0234, 0.0236, 0.0237,\n",
       "        0.0239, 0.0241, 0.0242, 0.0244, 0.0246, 0.0247, 0.0249, 0.0251, 0.0253,\n",
       "        0.0254, 0.0256, 0.0258, 0.0260, 0.0261, 0.0263, 0.0265, 0.0267, 0.0269,\n",
       "        0.0271, 0.0273, 0.0274, 0.0276, 0.0278, 0.0280, 0.0282, 0.0284, 0.0286,\n",
       "        0.0288, 0.0290, 0.0292, 0.0294, 0.0296, 0.0298, 0.0300, 0.0302, 0.0304,\n",
       "        0.0307, 0.0309, 0.0311, 0.0313, 0.0315, 0.0317, 0.0320, 0.0322, 0.0324,\n",
       "        0.0326, 0.0328, 0.0331, 0.0333, 0.0335, 0.0338, 0.0340, 0.0342, 0.0345,\n",
       "        0.0347, 0.0350, 0.0352, 0.0354, 0.0357, 0.0359, 0.0362, 0.0364, 0.0367,\n",
       "        0.0369, 0.0372, 0.0375, 0.0377, 0.0380, 0.0382, 0.0385, 0.0388, 0.0390,\n",
       "        0.0393, 0.0396, 0.0399, 0.0401, 0.0404, 0.0407, 0.0410, 0.0413, 0.0416,\n",
       "        0.0418, 0.0421, 0.0424, 0.0427, 0.0430, 0.0433, 0.0436, 0.0439, 0.0442,\n",
       "        0.0445, 0.0448, 0.0451, 0.0455, 0.0458, 0.0461, 0.0464, 0.0467, 0.0471,\n",
       "        0.0474, 0.0477, 0.0480, 0.0484, 0.0487, 0.0491, 0.0494, 0.0497, 0.0501,\n",
       "        0.0504, 0.0508, 0.0511, 0.0515, 0.0518, 0.0522, 0.0526, 0.0529, 0.0533,\n",
       "        0.0537, 0.0540, 0.0544, 0.0548, 0.0552, 0.0556, 0.0559, 0.0563, 0.0567,\n",
       "        0.0571, 0.0575, 0.0579, 0.0583, 0.0587, 0.0591, 0.0595, 0.0599, 0.0604,\n",
       "        0.0608, 0.0612, 0.0616, 0.0621, 0.0625, 0.0629, 0.0634, 0.0638, 0.0642,\n",
       "        0.0647, 0.0651, 0.0656, 0.0660, 0.0665, 0.0670, 0.0674, 0.0679, 0.0684,\n",
       "        0.0688, 0.0693, 0.0698, 0.0703, 0.0708, 0.0713, 0.0718, 0.0723, 0.0728,\n",
       "        0.0733, 0.0738, 0.0743, 0.0748, 0.0753, 0.0758, 0.0764, 0.0769, 0.0774,\n",
       "        0.0780, 0.0785, 0.0790, 0.0796, 0.0802, 0.0807, 0.0813, 0.0818, 0.0824,\n",
       "        0.0830, 0.0835, 0.0841, 0.0847, 0.0853, 0.0859, 0.0865, 0.0871, 0.0877,\n",
       "        0.0883, 0.0889, 0.0895, 0.0901, 0.0908, 0.0914, 0.0920, 0.0927, 0.0933,\n",
       "        0.0940, 0.0946, 0.0953, 0.0959, 0.0966, 0.0973, 0.0979, 0.0986, 0.0993,\n",
       "        0.1000, 0.1007, 0.1014, 0.1021, 0.1028, 0.1035, 0.1042, 0.1050, 0.1057,\n",
       "        0.1064, 0.1072, 0.1079, 0.1087, 0.1094, 0.1102, 0.1109, 0.1117, 0.1125,\n",
       "        0.1133, 0.1140, 0.1148, 0.1156, 0.1164, 0.1172, 0.1181, 0.1189, 0.1197,\n",
       "        0.1205, 0.1214, 0.1222, 0.1231, 0.1239, 0.1248, 0.1256, 0.1265, 0.1274,\n",
       "        0.1283, 0.1292, 0.1301, 0.1310, 0.1319, 0.1328, 0.1337, 0.1346, 0.1356,\n",
       "        0.1365, 0.1374, 0.1384, 0.1394, 0.1403, 0.1413, 0.1423, 0.1433, 0.1443,\n",
       "        0.1453, 0.1463, 0.1473, 0.1483, 0.1493, 0.1504, 0.1514, 0.1525, 0.1535,\n",
       "        0.1546, 0.1557, 0.1567, 0.1578, 0.1589, 0.1600, 0.1611, 0.1623, 0.1634,\n",
       "        0.1645, 0.1657, 0.1668, 0.1680, 0.1691, 0.1703, 0.1715, 0.1727, 0.1739,\n",
       "        0.1751, 0.1763, 0.1775, 0.1788, 0.1800, 0.1812, 0.1825, 0.1838, 0.1850,\n",
       "        0.1863, 0.1876, 0.1889, 0.1902, 0.1916, 0.1929, 0.1942, 0.1956, 0.1969,\n",
       "        0.1983, 0.1997, 0.2010, 0.2024, 0.2038, 0.2053, 0.2067, 0.2081, 0.2096,\n",
       "        0.2110, 0.2125, 0.2140, 0.2154, 0.2169, 0.2184, 0.2200, 0.2215, 0.2230,\n",
       "        0.2246, 0.2261, 0.2277, 0.2293, 0.2309, 0.2325, 0.2341, 0.2357, 0.2373,\n",
       "        0.2390, 0.2406, 0.2423, 0.2440, 0.2457, 0.2474, 0.2491, 0.2508, 0.2526,\n",
       "        0.2543, 0.2561, 0.2579, 0.2597, 0.2615, 0.2633, 0.2651, 0.2669, 0.2688,\n",
       "        0.2707, 0.2725, 0.2744, 0.2763, 0.2783, 0.2802, 0.2821, 0.2841, 0.2861,\n",
       "        0.2880, 0.2900, 0.2921, 0.2941, 0.2961, 0.2982, 0.3002, 0.3023, 0.3044,\n",
       "        0.3065, 0.3087, 0.3108, 0.3130, 0.3151, 0.3173, 0.3195, 0.3217, 0.3240,\n",
       "        0.3262, 0.3285, 0.3308, 0.3331, 0.3354, 0.3377, 0.3400, 0.3424, 0.3448,\n",
       "        0.3472, 0.3496, 0.3520, 0.3544, 0.3569, 0.3594, 0.3619, 0.3644, 0.3669,\n",
       "        0.3695, 0.3720, 0.3746, 0.3772, 0.3798, 0.3825, 0.3851, 0.3878, 0.3905,\n",
       "        0.3932, 0.3959, 0.3987, 0.4014, 0.4042, 0.4070, 0.4098, 0.4127, 0.4155,\n",
       "        0.4184, 0.4213, 0.4243, 0.4272, 0.4302, 0.4331, 0.4362, 0.4392, 0.4422,\n",
       "        0.4453, 0.4484, 0.4515, 0.4546, 0.4578, 0.4610, 0.4642, 0.4674, 0.4706,\n",
       "        0.4739, 0.4772, 0.4805, 0.4838, 0.4872, 0.4906, 0.4940, 0.4974, 0.5008,\n",
       "        0.5043, 0.5078, 0.5113, 0.5149, 0.5185, 0.5221, 0.5257, 0.5293, 0.5330,\n",
       "        0.5367, 0.5404, 0.5442, 0.5479, 0.5517, 0.5556, 0.5594, 0.5633, 0.5672,\n",
       "        0.5712, 0.5751, 0.5791, 0.5831, 0.5872, 0.5913, 0.5954, 0.5995, 0.6036,\n",
       "        0.6078, 0.6120, 0.6163, 0.6206, 0.6249, 0.6292, 0.6336, 0.6380, 0.6424,\n",
       "        0.6469, 0.6513, 0.6559, 0.6604, 0.6650, 0.6696, 0.6743, 0.6789, 0.6837,\n",
       "        0.6884, 0.6932, 0.6980, 0.7028, 0.7077, 0.7126, 0.7176, 0.7225, 0.7275,\n",
       "        0.7326, 0.7377, 0.7428, 0.7480, 0.7531, 0.7584, 0.7636, 0.7689, 0.7743,\n",
       "        0.7796, 0.7850, 0.7905, 0.7960, 0.8015, 0.8071, 0.8127, 0.8183, 0.8240,\n",
       "        0.8297, 0.8355, 0.8412, 0.8471, 0.8530, 0.8589, 0.8648, 0.8708, 0.8769,\n",
       "        0.8830, 0.8891, 0.8953, 0.9015, 0.9077, 0.9140, 0.9204, 0.9268, 0.9332,\n",
       "        0.9397, 0.9462, 0.9528, 0.9594, 0.9660, 0.9727, 0.9795, 0.9863, 0.9931,\n",
       "        1.0000])"
      ]
     },
     "execution_count": 85,
     "metadata": {},
     "output_type": "execute_result"
    }
   ],
   "execution_count": 85
  },
  {
   "metadata": {
    "ExecuteTime": {
     "end_time": "2025-02-10T19:24:59.243362Z",
     "start_time": "2025-02-10T19:24:58.488210Z"
    }
   },
   "cell_type": "code",
   "source": [
    "# building dataset\n",
    "X, y = [], []\n",
    "block_size = 3\n",
    "for w in words:\n",
    "    context = [0]* block_size\n",
    "    for ch in w + '.':\n",
    "        ix = stoi[ch]\n",
    "        X.append(context)\n",
    "        y.append(ix)\n",
    "        context = context[1:] + [ix]\n",
    "\n",
    "X = torch.tensor(X)\n",
    "y = torch.tensor(y)\n",
    "X.shape,y.shape"
   ],
   "id": "fbe497b1d0f01c6a",
   "outputs": [
    {
     "data": {
      "text/plain": [
       "(torch.Size([228146, 3]), torch.Size([228146]))"
      ]
     },
     "execution_count": 90,
     "metadata": {},
     "output_type": "execute_result"
    }
   ],
   "execution_count": 90
  },
  {
   "metadata": {
    "ExecuteTime": {
     "end_time": "2025-02-10T19:42:19.355741Z",
     "start_time": "2025-02-10T19:42:18.780626Z"
    }
   },
   "cell_type": "code",
   "source": [
    "def build_dataset(words):\n",
    "    block_size = 3\n",
    "    X, y = [], []\n",
    "    for w in words:\n",
    "        context = [0]* block_size\n",
    "        for ch in w + '.':\n",
    "            ix = stoi[ch]\n",
    "            X.append(context)\n",
    "            y.append(ix)\n",
    "            context = context[1:] + [ix]\n",
    "\n",
    "    X = torch.tensor(X)\n",
    "    y = torch.tensor(y)\n",
    "    print(X.shape,y.shape)\n",
    "    return X,y\n",
    "\n",
    "import random\n",
    "random.seed(42)\n",
    "random.shuffle(words)\n",
    "n1 = int(len(words)*0.8)\n",
    "n2 = int(len(words)*0.9)\n",
    "\n",
    "Xtr,ytr = build_dataset(words[:n1])\n",
    "Xval,yval = build_dataset(words[n1:n2])\n",
    "Xte,yte = build_dataset(words[n2:])\n"
   ],
   "id": "817af213d7e63ea",
   "outputs": [
    {
     "name": "stdout",
     "output_type": "stream",
     "text": [
      "torch.Size([182625, 3]) torch.Size([182625])\n",
      "torch.Size([22655, 3]) torch.Size([22655])\n",
      "torch.Size([22866, 3]) torch.Size([22866])\n"
     ]
    }
   ],
   "execution_count": 113
  },
  {
   "metadata": {
    "ExecuteTime": {
     "end_time": "2025-02-10T20:21:32.129713Z",
     "start_time": "2025-02-10T20:21:32.117138Z"
    }
   },
   "cell_type": "code",
   "source": [
    "g = torch.Generator().manual_seed(2147483647)\n",
    "C = torch.randn((27,20),generator=g)\n",
    "w1 = torch.randn((60,300),generator=g)\n",
    "b1 = torch.randn(300,generator=g)\n",
    "w2 = torch.randn((300,27),generator=g)\n",
    "b2 = torch.randn(27,generator=g)\n",
    "params = [C,w1,b1,w2,b2]"
   ],
   "id": "b6b28652c85e4de5",
   "outputs": [],
   "execution_count": 171
  },
  {
   "metadata": {
    "ExecuteTime": {
     "end_time": "2025-02-10T20:21:32.617124Z",
     "start_time": "2025-02-10T20:21:32.613198Z"
    }
   },
   "cell_type": "code",
   "source": "sum(p.nelement() for p in params)",
   "id": "bd055d9c7560b21e",
   "outputs": [
    {
     "data": {
      "text/plain": [
       "26967"
      ]
     },
     "execution_count": 172,
     "metadata": {},
     "output_type": "execute_result"
    }
   ],
   "execution_count": 172
  },
  {
   "metadata": {
    "ExecuteTime": {
     "end_time": "2025-02-10T20:21:33.740099Z",
     "start_time": "2025-02-10T20:21:33.737293Z"
    }
   },
   "cell_type": "code",
   "source": [
    "for p in params:\n",
    "    p.requires_grad = True"
   ],
   "id": "4536b314c408bace",
   "outputs": [],
   "execution_count": 173
  },
  {
   "metadata": {
    "ExecuteTime": {
     "end_time": "2025-02-10T20:21:34.903332Z",
     "start_time": "2025-02-10T20:21:34.899597Z"
    }
   },
   "cell_type": "code",
   "source": [
    "lri = []\n",
    "lossi = []\n",
    "stepi = []"
   ],
   "id": "b3fdc55e02a2d87f",
   "outputs": [],
   "execution_count": 174
  },
  {
   "metadata": {
    "ExecuteTime": {
     "end_time": "2025-02-10T20:22:19.428387Z",
     "start_time": "2025-02-10T20:21:42.378336Z"
    }
   },
   "cell_type": "code",
   "source": [
    "\n",
    "for i in range(200000):\n",
    "    # mini batch\n",
    "    ix = torch.randint(0,Xtr.shape[0],(32,))\n",
    "\n",
    "    emb = C[Xtr[ix]]\n",
    "    # forward pass\n",
    "    h = torch.tanh(emb.view(-1,60) @ w1 + b1)\n",
    "    logits = h @ w2 + b2\n",
    "    loss = F.cross_entropy(logits,ytr[ix])\n",
    "    # backward pass\n",
    "    for p in params:\n",
    "        p.grad = None\n",
    "    loss.backward()\n",
    "    lr = 0.1 if i < 10000 else 0.01\n",
    "    # lri.append(lr)\n",
    "    lossi.append(loss.log10().item())\n",
    "    stepi.append(i)\n",
    "    #update\n",
    "    for p in params:\n",
    "        p.data += -lr * p.grad\n",
    "print(loss.item())"
   ],
   "id": "892cfb37cebbb227",
   "outputs": [
    {
     "name": "stdout",
     "output_type": "stream",
     "text": [
      "1.5134027004241943\n"
     ]
    }
   ],
   "execution_count": 175
  },
  {
   "metadata": {
    "ExecuteTime": {
     "end_time": "2025-02-10T20:22:26.850191Z",
     "start_time": "2025-02-10T20:22:26.586568Z"
    }
   },
   "cell_type": "code",
   "source": "plt.plot(stepi,lossi)",
   "id": "87aafd58dcaea373",
   "outputs": [
    {
     "data": {
      "text/plain": [
       "[<matplotlib.lines.Line2D at 0x121e41fa0>]"
      ]
     },
     "execution_count": 176,
     "metadata": {},
     "output_type": "execute_result"
    },
    {
     "data": {
      "text/plain": [
       "<Figure size 640x480 with 1 Axes>"
      ],
      "image/png": "[encoded data removed]"
     },
     "metadata": {},
     "output_type": "display_data"
    }
   ],
   "execution_count": 176
  },
  {
   "metadata": {
    "ExecuteTime": {
     "end_time": "2025-02-10T20:22:35.386283Z",
     "start_time": "2025-02-10T20:22:35.044653Z"
    }
   },
   "cell_type": "code",
   "source": [
    "emb = C[Xtr]\n",
    "h = torch.tanh(emb.view(-1,60) @ w1 + b1)\n",
    "logits = h @ w2 + b2\n",
    "loss = F.cross_entropy(logits,ytr)\n",
    "loss"
   ],
   "id": "749121a4eefcbc8c",
   "outputs": [
    {
     "data": {
      "text/plain": [
       "tensor(2.1511, grad_fn=<NllLossBackward0>)"
      ]
     },
     "execution_count": 177,
     "metadata": {},
     "output_type": "execute_result"
    }
   ],
   "execution_count": 177
  },
  {
   "metadata": {
    "ExecuteTime": {
     "end_time": "2025-02-10T20:22:41.700462Z",
     "start_time": "2025-02-10T20:22:41.630066Z"
    }
   },
   "cell_type": "code",
   "source": [
    "emb = C[Xval]\n",
    "h = torch.tanh(emb.view(-1,60) @ w1 + b1)\n",
    "logits = h @ w2 + b2\n",
    "loss = F.cross_entropy(logits,yval)\n",
    "loss"
   ],
   "id": "a12e65e939b0fc36",
   "outputs": [
    {
     "data": {
      "text/plain": [
       "tensor(2.2284, grad_fn=<NllLossBackward0>)"
      ]
     },
     "execution_count": 178,
     "metadata": {},
     "output_type": "execute_result"
    }
   ],
   "execution_count": 178
  },
  {
   "metadata": {
    "ExecuteTime": {
     "end_time": "2025-02-10T19:26:37.884761Z",
     "start_time": "2025-02-10T19:26:37.799226Z"
    }
   },
   "cell_type": "code",
   "source": "plt.plot(lri,lossi)",
   "id": "c20a0201bb9feabb",
   "outputs": [
    {
     "data": {
      "text/plain": [
       "[<matplotlib.lines.Line2D at 0x123a29e50>]"
      ]
     },
     "execution_count": 100,
     "metadata": {},
     "output_type": "execute_result"
    },
    {
     "data": {
      "text/plain": [
       "<Figure size 640x480 with 1 Axes>"
      ],
      "image/png": "[encoded data removed]"
     },
     "metadata": {},
     "output_type": "display_data"
    }
   ],
   "execution_count": 100
  },
  {
   "metadata": {
    "ExecuteTime": {
     "end_time": "2025-02-10T19:56:33.683358Z",
     "start_time": "2025-02-10T19:56:33.668458Z"
    }
   },
   "cell_type": "code",
   "source": "",
   "id": "a3c786049e154b7a",
   "outputs": [
    {
     "data": {
      "text/plain": [
       "torch.Size([27, 2])"
      ]
     },
     "execution_count": 137,
     "metadata": {},
     "output_type": "execute_result"
    }
   ],
   "execution_count": 137
  },
  {
   "metadata": {
    "ExecuteTime": {
     "end_time": "2025-02-10T20:00:15.831099Z",
     "start_time": "2025-02-10T20:00:15.700380Z"
    }
   },
   "cell_type": "code",
   "source": [
    "# visualizing the trained embeddings\n",
    "plt.figure(figsize=(8,8))\n",
    "plt.scatter(C[:,0].data,C[:,1].data,s=200)\n",
    "for i in range(C.shape[0]):\n",
    "    plt.text(C[i,0].item(),C[i,1].item(),itos[i],ha=\"center\",va=\"center\",c=\"white\")\n",
    "plt.grid(\"minor\")\n"
   ],
   "id": "1475cc59ef39cf7c",
   "outputs": [
    {
     "data": {
      "text/plain": [
       "<Figure size 800x800 with 1 Axes>"
      ],
      "image/png": "[encoded data removed]"
     },
     "metadata": {},
     "output_type": "display_data"
    }
   ],
   "execution_count": 139
  },
  {
   "metadata": {
    "ExecuteTime": {
     "end_time": "2025-02-10T20:22:49.618187Z",
     "start_time": "2025-02-10T20:22:49.594625Z"
    }
   },
   "cell_type": "code",
   "source": [
    "# sample from the model\n",
    "g = torch.Generator().manual_seed(2147483647)\n",
    "\n",
    "for _ in range(20):\n",
    "    out = []\n",
    "    context = [0]*block_size\n",
    "    while True:\n",
    "        emb = C[torch.tensor([context])]\n",
    "        h = torch.tanh(emb.view(1,-1) @ w1 + b1)\n",
    "        logits = h @ w2 + b2\n",
    "        probs = F.softmax(logits,dim=-1)\n",
    "        ix = torch.multinomial(probs,1,generator=g).item()\n",
    "        context = context[1:] + [ix]\n",
    "        out.append(ix)\n",
    "        if ix == 0:\n",
    "            break\n",
    "    print(''.join(itos[i] for i in out))"
   ],
   "id": "52e7ed54668cecfc",
   "outputs": [
    {
     "name": "stdout",
     "output_type": "stream",
     "text": [
      "cerima.\n",
      "jalsuraileighannell.\n",
      "ima.\n",
      "tain.\n",
      "lucan.\n",
      "kata.\n",
      "kreez.\n",
      "pebcoter.\n",
      "gota.\n",
      "michim.\n",
      "caxugidured.\n",
      "aka.\n",
      "emversedgo.\n",
      "akain.\n",
      "nyla.\n",
      "brithikite.\n",
      "von.\n",
      "lucu.\n",
      "dshu.\n",
      "dan.\n"
     ]
    }
   ],
   "execution_count": 179
  },
  {
   "metadata": {},
   "cell_type": "code",
   "outputs": [],
   "execution_count": null,
   "source": "",
   "id": "cf5a280267f40e16"
  }
 ],
 "metadata": {
  "kernelspec": {
   "name": "python3",
   "language": "python",
   "display_name": "Python 3 (ipykernel)"
  }
 },
 "nbformat": 5,
 "nbformat_minor": 9
}
